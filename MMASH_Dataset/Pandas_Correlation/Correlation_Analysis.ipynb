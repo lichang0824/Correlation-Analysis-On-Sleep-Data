{
 "cells": [
  {
   "cell_type": "code",
   "execution_count": 1,
   "id": "5d65bf0d-478e-4995-8796-6de53ffc2bf6",
   "metadata": {},
   "outputs": [],
   "source": [
    "import pandas as pd\n",
    "import numpy as np\n",
    "import matplotlib.pyplot as plt"
   ]
  },
  {
   "cell_type": "code",
   "execution_count": 2,
   "id": "8d2ed796-252f-4b22-a365-194f7afb46ff",
   "metadata": {},
   "outputs": [],
   "source": [
    "actigraph = pd.read_csv('project_tables/actigraph/000000_0', names = ['username', 'total_steps', 'avg_heart_rate'])\n",
    "activity = pd.read_csv('project_tables/activity/000000_0', names = ['username', 'type', 'time'])\n",
    "rr = pd.read_csv('project_tables/rr/000000_0', names = ['username', 'ibi_s'])\n",
    "info = pd.read_csv('project_tables/info/000000_0', names = ['username', 'gender', 'weight', 'height', 'age'])\n",
    "sleep = pd.read_csv('project_tables/sleep/000000_0', names = ['username', 'latency', 'efficiency', 'total_minutes_in_bed', 'total_sleep_time', 'wake_after_sleep_onset', 'num_awakening', 'avg_awakening_length', 'movement_index', 'fragmentation_index', 'sleep_fragmentation_index'])\n",
    "questionnaire = pd.read_csv('project_tables/questionnaire/000000_0', names = ['username', 'meq', 'stai1', 'stai2', 'pittsburgh', 'daily_stress', 'bisbas_bis', 'bisbas_reward', 'bisbas_drive', 'bisbas_fun', 'panas_pos_10', 'panas_pos_14', 'panas_pos_18', 'panas_pos_22', 'panas_pos_9p1', 'panas_neg_10', 'panas_neg_14', 'panas_neg_18', 'panas_neg_22', 'panas_neg_9p1'])"
   ]
  },
  {
   "cell_type": "code",
   "execution_count": 3,
   "id": "d06ce37d-0e15-4d14-82a1-60ef64c6cda0",
   "metadata": {},
   "outputs": [],
   "source": [
    "info.drop(columns = ['gender'], inplace = True)"
   ]
  },
  {
   "cell_type": "code",
   "execution_count": 4,
   "id": "1253ac51-3334-4629-a66c-daba69f644e3",
   "metadata": {},
   "outputs": [],
   "source": [
    "# got np.zeros from https://stackoverflow.com/questions/22963263/creating-a-zero-filled-pandas-data-frame\n",
    "activity_sum = pd.DataFrame(np.zeros((19, 13)))\n",
    "activity_sum.columns = ['0', '1', '2', '3', '4', '5', '6', '7', '8', '9', '10', '11', '12']\n",
    "activity_sum.index = actigraph['username']"
   ]
  },
  {
   "cell_type": "code",
   "execution_count": 5,
   "id": "c2081bc8-c1c8-43cd-be46-9894ed3f1407",
   "metadata": {},
   "outputs": [],
   "source": [
    "for index, row in activity.iterrows():\n",
    "    activity_sum.at[int(row['username']), str(int(row['type']))] = row['time']\n",
    "# got reset_index from https://thispointer.com/pandas-convert-dataframe-index-into-column-using-dataframe-reset_index-in-python/\n",
    "activity_sum.reset_index(inplace = True)\n",
    "activity_sum.columns = ['username', 'sleeping', 'lying', 'sitting', 'light_movement', 'medium_movement', 'heavy_movement', 'eating', 'small_screen', 'large_screen', 'caffeine', 'smoking', 'alcohol', 'saliva']\n",
    "activity_sum.drop(columns = ['saliva'], inplace = True)"
   ]
  },
  {
   "cell_type": "code",
   "execution_count": 6,
   "id": "8c5389c9-8eda-47f1-83fe-52318f7ccb15",
   "metadata": {},
   "outputs": [],
   "source": [
    "def mergeall(l, how, on):\n",
    "    if len(l) == 2:\n",
    "        return pd.merge(l[0], l[1], how = how, on = on)\n",
    "    return pd.merge(l[0], mergeall(l[1:], how = how, on = on), how = how, on = on)"
   ]
  },
  {
   "cell_type": "code",
   "execution_count": 7,
   "id": "8917244e-5c7e-40e5-b36a-527567818bd5",
   "metadata": {},
   "outputs": [],
   "source": [
    "l = [actigraph, activity_sum, rr, info, sleep, questionnaire]\n",
    "df = mergeall(l, how = 'inner', on = 'username')"
   ]
  },
  {
   "cell_type": "code",
   "execution_count": 8,
   "id": "37df69a7-4226-43c4-b6ee-97f1f1f4482a",
   "metadata": {},
   "outputs": [],
   "source": [
    "df.set_index('username', inplace = True)"
   ]
  },
  {
   "cell_type": "code",
   "execution_count": 9,
   "id": "33b95200-6b21-43e3-8dbf-3223591b9e39",
   "metadata": {},
   "outputs": [
    {
     "name": "stdout",
     "output_type": "stream",
     "text": [
      "<class 'pandas.core.frame.DataFrame'>\n",
      "Int64Index: 19 entries, 1 to 22\n",
      "Data columns (total 47 columns):\n",
      " #   Column                     Non-Null Count  Dtype  \n",
      "---  ------                     --------------  -----  \n",
      " 0   total_steps                19 non-null     int64  \n",
      " 1   avg_heart_rate             19 non-null     float64\n",
      " 2   sleeping                   19 non-null     float64\n",
      " 3   lying                      19 non-null     float64\n",
      " 4   sitting                    19 non-null     float64\n",
      " 5   light_movement             19 non-null     float64\n",
      " 6   medium_movement            19 non-null     float64\n",
      " 7   heavy_movement             19 non-null     float64\n",
      " 8   eating                     19 non-null     float64\n",
      " 9   small_screen               19 non-null     float64\n",
      " 10  large_screen               19 non-null     float64\n",
      " 11  caffeine                   19 non-null     float64\n",
      " 12  smoking                    19 non-null     float64\n",
      " 13  alcohol                    19 non-null     float64\n",
      " 14  ibi_s                      19 non-null     float64\n",
      " 15  weight                     19 non-null     int64  \n",
      " 16  height                     19 non-null     int64  \n",
      " 17  age                        19 non-null     int64  \n",
      " 18  latency                    19 non-null     float64\n",
      " 19  efficiency                 19 non-null     float64\n",
      " 20  total_minutes_in_bed       19 non-null     float64\n",
      " 21  total_sleep_time           19 non-null     float64\n",
      " 22  wake_after_sleep_onset     19 non-null     float64\n",
      " 23  num_awakening              19 non-null     float64\n",
      " 24  avg_awakening_length       19 non-null     float64\n",
      " 25  movement_index             19 non-null     float64\n",
      " 26  fragmentation_index        19 non-null     float64\n",
      " 27  sleep_fragmentation_index  19 non-null     float64\n",
      " 28  meq                        19 non-null     float64\n",
      " 29  stai1                      19 non-null     float64\n",
      " 30  stai2                      19 non-null     float64\n",
      " 31  pittsburgh                 19 non-null     float64\n",
      " 32  daily_stress               19 non-null     float64\n",
      " 33  bisbas_bis                 19 non-null     float64\n",
      " 34  bisbas_reward              19 non-null     float64\n",
      " 35  bisbas_drive               19 non-null     float64\n",
      " 36  bisbas_fun                 19 non-null     float64\n",
      " 37  panas_pos_10               19 non-null     float64\n",
      " 38  panas_pos_14               19 non-null     float64\n",
      " 39  panas_pos_18               19 non-null     float64\n",
      " 40  panas_pos_22               19 non-null     float64\n",
      " 41  panas_pos_9p1              19 non-null     float64\n",
      " 42  panas_neg_10               19 non-null     float64\n",
      " 43  panas_neg_14               19 non-null     float64\n",
      " 44  panas_neg_18               19 non-null     float64\n",
      " 45  panas_neg_22               19 non-null     float64\n",
      " 46  panas_neg_9p1              19 non-null     float64\n",
      "dtypes: float64(43), int64(4)\n",
      "memory usage: 7.1 KB\n"
     ]
    }
   ],
   "source": [
    "df.info()"
   ]
  },
  {
   "cell_type": "code",
   "execution_count": 10,
   "id": "bceab5c4-1286-412d-9567-deb580b0c8f5",
   "metadata": {},
   "outputs": [],
   "source": [
    "# this cell is adapted from https://stackoverflow.com/questions/17778394/list-highest-correlation-pairs-from-a-large-correlation-matrix-in-pandas\n",
    "def get_redundant_pairs(df):\n",
    "    '''Get diagonal and lower triangular pairs of correlation matrix'''\n",
    "    pairs_to_drop = set()\n",
    "    cols = df.columns\n",
    "    for i in range(0, df.shape[1]):\n",
    "        for j in range(0, i+1):\n",
    "            pairs_to_drop.add((cols[i], cols[j]))\n",
    "    return pairs_to_drop\n",
    "\n",
    "def get_top_pos_correlations(df, n=5):\n",
    "    au_corr = df.corr().unstack()\n",
    "    labels_to_drop = get_redundant_pairs(df)\n",
    "    au_corr = au_corr.drop(labels=labels_to_drop).sort_values(ascending=False)\n",
    "    return au_corr[0:n]\n",
    "\n",
    "def get_top_neg_correlations(df, n=5):\n",
    "    au_corr = df.corr().unstack()\n",
    "    labels_to_drop = get_redundant_pairs(df)\n",
    "    au_corr = au_corr.drop(labels=labels_to_drop).sort_values(ascending=True)\n",
    "    return au_corr[0:n]"
   ]
  },
  {
   "cell_type": "code",
   "execution_count": 11,
   "id": "23896222-6f1d-4fa2-9f23-8ecc873f5cc4",
   "metadata": {},
   "outputs": [
    {
     "name": "stdout",
     "output_type": "stream",
     "text": [
      "Top Positive Correlations\n",
      "fragmentation_index     sleep_fragmentation_index    0.928636\n",
      "total_minutes_in_bed    total_sleep_time             0.920330\n",
      "alcohol                 panas_neg_14                 0.877639\n",
      "light_movement          avg_awakening_length         0.781083\n",
      "panas_pos_14            panas_pos_22                 0.711164\n",
      "num_awakening           sleep_fragmentation_index    0.700966\n",
      "panas_neg_14            panas_neg_18                 0.699094\n",
      "total_minutes_in_bed    avg_awakening_length         0.698913\n",
      "panas_pos_14            panas_pos_18                 0.697025\n",
      "panas_pos_10            panas_pos_9p1                0.696094\n",
      "wake_after_sleep_onset  num_awakening                0.681680\n",
      "num_awakening           fragmentation_index          0.681241\n",
      "wake_after_sleep_onset  movement_index               0.678228\n",
      "                        sleep_fragmentation_index    0.677102\n",
      "sitting                 age                          0.670017\n",
      "total_sleep_time        avg_awakening_length         0.667402\n",
      "weight                  height                       0.667180\n",
      "avg_heart_rate          bisbas_drive                 0.662646\n",
      "panas_pos_22            panas_pos_9p1                0.656137\n",
      "avg_heart_rate          heavy_movement               0.655948\n",
      "dtype: float64\n"
     ]
    }
   ],
   "source": [
    "print(\"Top Positive Correlations\")\n",
    "print(get_top_pos_correlations(df, 20))"
   ]
  },
  {
   "cell_type": "code",
   "execution_count": 12,
   "id": "b144c10a-8fb2-4841-a650-ec16800c560b",
   "metadata": {},
   "outputs": [
    {
     "name": "stdout",
     "output_type": "stream",
     "text": [
      "Top Negative Correlations\n",
      "efficiency              wake_after_sleep_onset      -0.929239\n",
      "avg_heart_rate          ibi_s                       -0.885516\n",
      "efficiency              movement_index              -0.760764\n",
      "sleeping                smoking                     -0.716207\n",
      "efficiency              sleep_fragmentation_index   -0.664095\n",
      "large_screen            weight                      -0.659532\n",
      "efficiency              num_awakening               -0.607614\n",
      "heavy_movement          ibi_s                       -0.598849\n",
      "smoking                 panas_pos_18                -0.535692\n",
      "latency                 efficiency                  -0.517848\n",
      "meq                     panas_neg_22                -0.514317\n",
      "small_screen            bisbas_reward               -0.498219\n",
      "eating                  panas_pos_10                -0.495402\n",
      "ibi_s                   bisbas_drive                -0.490126\n",
      "wake_after_sleep_onset  stai1                       -0.488327\n",
      "sleeping                medium_movement             -0.487728\n",
      "eating                  panas_pos_9p1               -0.474861\n",
      "                        stai2                       -0.466613\n",
      "meq                     panas_neg_18                -0.454561\n",
      "efficiency              fragmentation_index         -0.451713\n",
      "dtype: float64\n"
     ]
    }
   ],
   "source": [
    "print(\"Top Negative Correlations\")\n",
    "print(get_top_neg_correlations(df, 20))"
   ]
  },
  {
   "cell_type": "code",
   "execution_count": 13,
   "id": "f08342ec-bbdb-4193-8a89-7393d6a6350c",
   "metadata": {},
   "outputs": [],
   "source": [
    "# this cell is adapted from https://stackoverflow.com/questions/22239691/code-for-best-fit-straight-line-of-a-scatter-plot-in-python\n",
    "def best_fit(X, Y):\n",
    "\n",
    "    xbar = sum(X)/len(X)\n",
    "    ybar = sum(Y)/len(Y)\n",
    "    n = len(X) # or len(Y)\n",
    "\n",
    "    numer = sum([xi*yi for xi,yi in zip(X, Y)]) - n * xbar * ybar\n",
    "    denum = sum([xi**2 for xi in X]) - n * xbar**2\n",
    "\n",
    "    b = numer / denum\n",
    "    a = ybar - b * xbar\n",
    "\n",
    "    #print('best fit line:\\ny = {:.2f} + {:.2f}x'.format(a, b))\n",
    "\n",
    "    return a, b\n",
    "\n",
    "def scatter_with_best_fit(indep, dep):\n",
    "    X = df[indep]\n",
    "    Y = df[dep]\n",
    "    # solution\n",
    "    a, b = best_fit(X, Y)\n",
    "\n",
    "    # plot points and fit line\n",
    "    plt.scatter(X, Y)\n",
    "    yfit = [a + b * xi for xi in X]\n",
    "    plt.xlabel(indep)\n",
    "    plt.ylabel(dep)\n",
    "    plt.plot(X, yfit)"
   ]
  },
  {
   "cell_type": "code",
   "execution_count": 14,
   "id": "3a31332e-901b-4731-99a6-7ca97f9cfe61",
   "metadata": {},
   "outputs": [
    {
     "data": {
      "image/png": "[encoded data removed]",
      "text/plain": [
       "<Figure size 432x288 with 1 Axes>"
      ]
     },
     "metadata": {
      "needs_background": "light"
     },
     "output_type": "display_data"
    }
   ],
   "source": [
    "scatter_with_best_fit('wake_after_sleep_onset', 'efficiency')"
   ]
  },
  {
   "cell_type": "code",
   "execution_count": 15,
   "id": "1ce259f2-161d-474e-aef4-151ae4acc3c2",
   "metadata": {},
   "outputs": [
    {
     "data": {
      "image/png": "[encoded data removed]",
      "text/plain": [
       "<Figure size 432x288 with 1 Axes>"
      ]
     },
     "metadata": {
      "needs_background": "light"
     },
     "output_type": "display_data"
    }
   ],
   "source": [
    "scatter_with_best_fit('movement_index', 'efficiency')"
   ]
  },
  {
   "cell_type": "code",
   "execution_count": 18,
   "id": "3250ff38-a7eb-484e-b9a8-4715c2f4493c",
   "metadata": {},
   "outputs": [
    {
     "data": {
      "image/png": "[encoded data removed]",
      "text/plain": [
       "<Figure size 432x288 with 1 Axes>"
      ]
     },
     "metadata": {
      "needs_background": "light"
     },
     "output_type": "display_data"
    }
   ],
   "source": [
    "scatter_with_best_fit('efficiency', 'num_awakening')"
   ]
  },
  {
   "cell_type": "code",
   "execution_count": 16,
   "id": "9dbb4199-a7cc-49d2-8700-aa1d6fd86409",
   "metadata": {},
   "outputs": [
    {
     "data": {
      "image/png": "[encoded data removed]",
      "text/plain": [
       "<Figure size 432x288 with 1 Axes>"
      ]
     },
     "metadata": {
      "needs_background": "light"
     },
     "output_type": "display_data"
    }
   ],
   "source": [
    "scatter_with_best_fit('caffeine', 'total_sleep_time')"
   ]
  },
  {
   "cell_type": "code",
   "execution_count": 17,
   "id": "ca260610-092c-4ded-b736-f6494772329c",
   "metadata": {},
   "outputs": [
    {
     "data": {
      "image/png": "[encoded data removed]",
      "text/plain": [
       "<Figure size 432x288 with 1 Axes>"
      ]
     },
     "metadata": {
      "needs_background": "light"
     },
     "output_type": "display_data"
    }
   ],
   "source": [
    "scatter_with_best_fit('alcohol', 'panas_neg_14')"
   ]
  },
  {
   "cell_type": "code",
   "execution_count": 19,
   "id": "56c0173d-8d2a-407a-ba93-c0feb3330d46",
   "metadata": {},
   "outputs": [
    {
     "data": {
      "image/png": "[encoded data removed]",
      "text/plain": [
       "<Figure size 432x288 with 1 Axes>"
      ]
     },
     "metadata": {
      "needs_background": "light"
     },
     "output_type": "display_data"
    }
   ],
   "source": [
    "scatter_with_best_fit('smoking', 'panas_pos_18')"
   ]
  }
 ],
 "metadata": {
  "kernelspec": {
   "display_name": "Python 3 (ipykernel)",
   "language": "python",
   "name": "python3"
  },
  "language_info": {
   "codemirror_mode": {
    "name": "ipython",
    "version": 3
   },
   "file_extension": ".py",
   "mimetype": "text/x-python",
   "name": "python",
   "nbconvert_exporter": "python",
   "pygments_lexer": "ipython3",
   "version": "3.8.5"
  }
 },
 "nbformat": 4,
 "nbformat_minor": 5
}
